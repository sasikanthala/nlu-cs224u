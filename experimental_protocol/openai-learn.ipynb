{
 "cells": [
  {
   "cell_type": "code",
   "execution_count": 2,
   "metadata": {},
   "outputs": [],
   "source": [
    "import os\n",
    "import dotenv\n",
    "import openai\n"
   ]
  },
  {
   "cell_type": "code",
   "execution_count": 9,
   "metadata": {},
   "outputs": [],
   "source": [
    "dotenv.load_dotenv()\n",
    "openai.organization = os.environ[\"OPENAI_ORGANIZATION\"]\n",
    "openai.api_key = os.environ[\"OPENAI_API_KEY\"]"
   ]
  },
  {
   "cell_type": "code",
   "execution_count": 76,
   "metadata": {},
   "outputs": [
    {
     "name": "stdout",
     "output_type": "stream",
     "text": [
      "{\n",
      "  \"finish_reason\": \"stop\",\n",
      "  \"index\": 0,\n",
      "  \"logprobs\": null,\n",
      "  \"text\": \"\\n\\nThe president of the United States in 2020 is Donald Trump.\"\n",
      "}\n"
     ]
    }
   ],
   "source": [
    "completion = openai.Completion.create(model=\"text-babbage-001\", temperature=0, prompt=\"Who is the president of united states in 2020?\", max_tokens=100)\n",
    "print(completion.choices[0])\n",
    "\n"
   ]
  },
  {
   "cell_type": "code",
   "execution_count": 72,
   "metadata": {},
   "outputs": [
    {
     "name": "stdout",
     "output_type": "stream",
     "text": [
      "[<OpenAIObject at 0x12f39b010> JSON: {\n",
      "  \"finish_reason\": \"stop\",\n",
      "  \"index\": 0,\n",
      "  \"message\": {\n",
      "    \"content\": \"Greetings! How may I assist you today?\",\n",
      "    \"role\": \"assistant\"\n",
      "  }\n",
      "}]\n"
     ]
    }
   ],
   "source": [
    "completion = openai.ChatCompletion.create(model=\"gpt-3.5-turbo\", messages=[{\"role\": \"system\", \"content\": \"you are a old cynical person\"}, {\"role\": \"user\", \"content\": \"Hello There!\"}])\n",
    "print(completion.choices)                                                                                                                                                                                                                                                                                                                                                                                                                                                                                                                                                                                                                                                                                                                                                                                                                                                                                                                                                                                                                                                                                                                       \n"
   ]
  },
  {
   "cell_type": "code",
   "execution_count": null,
   "metadata": {},
   "outputs": [],
   "source": []
  },
  {
   "cell_type": "code",
   "execution_count": null,
   "metadata": {},
   "outputs": [],
   "source": []
  }
 ],
 "metadata": {
  "kernelspec": {
   "display_name": "nlu_paper",
   "language": "python",
   "name": "python3"
  },
  "language_info": {
   "codemirror_mode": {
    "name": "ipython",
    "version": 3
   },
   "file_extension": ".py",
   "mimetype": "text/x-python",
   "name": "python",
   "nbconvert_exporter": "python",
   "pygments_lexer": "ipython3",
   "version": "3.10.9"
  },
  "orig_nbformat": 4
 },
 "nbformat": 4,
 "nbformat_minor": 2
}
